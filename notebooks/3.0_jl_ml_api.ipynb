{
 "cells": [
  {
   "cell_type": "markdown",
   "id": "5f6f0294-24c9-4f10-8b64-eab57e19e134",
   "metadata": {},
   "source": [
    "#### API using Flask"
   ]
  },
  {
   "cell_type": "code",
   "execution_count": 2,
   "id": "81fefe25-4cff-4fa6-b8c3-c3cc6f3f7f51",
   "metadata": {},
   "outputs": [],
   "source": [
    "import os\n",
    "hello_world_script_file = os.path.join(os.path.pardir, 'src', 'modeling', 'hello_world_api.py')"
   ]
  },
  {
   "cell_type": "code",
   "execution_count": 2,
   "id": "85e1b9fa-9bd4-4b15-b9eb-0372a481d11d",
   "metadata": {},
   "outputs": [
    {
     "name": "stdout",
     "output_type": "stream",
     "text": [
      "Writing ..\\src\\modeling\\hello_world_api.py\n"
     ]
    }
   ],
   "source": [
    "%%writefile $hello_world_script_file\n",
    "\n",
    "from flask import Flask, request\n",
    "\n",
    "# Initialize the Flask app\n",
    "app = Flask(__name__)\n",
    "\n",
    "# Define an API endpoint that accepts POST requests\n",
    "@app.route('/api', methods=['POST'])\n",
    "def say_hello():\n",
    "    # Parse incoming JSON data\n",
    "    data = request.get_json(force=True)\n",
    "    # Extract 'name' from the JSON and return a greeting\n",
    "    name = data['name']\n",
    "    return f'hello {name}'\n",
    "\n",
    "# Run the app on port 10001 with debug mode enabled\n",
    "if __name__ == '__main__':\n",
    "    app.run(port=10001, debug=True)"
   ]
  },
  {
   "cell_type": "code",
   "execution_count": 3,
   "id": "bba58fa2-4d7d-4298-904c-48f7af557512",
   "metadata": {},
   "outputs": [],
   "source": [
    "import json\n",
    "import requests"
   ]
  },
  {
   "cell_type": "code",
   "execution_count": 6,
   "id": "0bb685f4-6b1a-4b5d-9c03-e9b4a97af03b",
   "metadata": {},
   "outputs": [],
   "source": [
    "url = 'http://127.0.0.1:10001/api'\n",
    "data = json.dumps({'name': 'James'})\n",
    "r = requests.post(url, data)"
   ]
  },
  {
   "cell_type": "code",
   "execution_count": 8,
   "id": "068ae9fc-219c-4e8b-a1ac-de3ef457b667",
   "metadata": {},
   "outputs": [
    {
     "name": "stdout",
     "output_type": "stream",
     "text": [
      "hello James\n"
     ]
    }
   ],
   "source": [
    "print(r.text)"
   ]
  },
  {
   "cell_type": "markdown",
   "id": "9cf60d89-81ec-4efa-9350-119e7d3f35d1",
   "metadata": {},
   "source": [
    "#### Machine Learning API using Flask"
   ]
  },
  {
   "cell_type": "code",
   "execution_count": 10,
   "id": "763e63bc-afcd-4116-a810-0e70150246df",
   "metadata": {},
   "outputs": [],
   "source": [
    "machine_learning_script_file = os.path.join(os.path.pardir, 'src', 'modeling', 'machine_learning_api.py')"
   ]
  },
  {
   "cell_type": "code",
   "execution_count": 14,
   "id": "275c969f-776f-4eee-be74-38f98bb6b80a",
   "metadata": {},
   "outputs": [
    {
     "name": "stdout",
     "output_type": "stream",
     "text": [
      "Overwriting ..\\src\\modeling\\machine_learning_api.py\n"
     ]
    }
   ],
   "source": [
    "%%writefile $machine_learning_script_file\n",
    "\n",
    "from flask import Flask, request\n",
    "import pandas as pd\n",
    "import os\n",
    "import json\n",
    "import numpy as np\n",
    "import sklearn\n",
    "from sklearn.model_selection import train_test_split, GridSearchCV\n",
    "from sklearn.dummy import DummyClassifier\n",
    "from sklearn.metrics import accuracy_score, confusion_matrix, precision_score, recall_score\n",
    "from sklearn.linear_model import LogisticRegression\n",
    "from sklearn.preprocessing import MinMaxScaler, StandardScaler\n",
    "import pickle\n",
    "\n",
    "# Initialize the Flask app\n",
    "app = Flask(__name__)\n",
    "\n",
    "# Define file paths\n",
    "model_path = os.path.join(os.path.pardir, os.path.pardir, 'models')\n",
    "model_fp = os.path.join(model_path, 'lr_model.pkl')\n",
    "scaler_fp = os.path.join(model_path, 'lr_scaler.pkl')\n",
    "\n",
    "scaler = pickle.load(open(scaler_fp, 'rb'))\n",
    "model = pickle.load(open(model_fp, 'rb'))\n",
    "\n",
    "# set column order to match pickle files\n",
    "columns = [\n",
    "    'Age', 'Fare', 'Family_Size', 'Is_Mother', 'Is_Male', 'Is_Female', \n",
    "    'Deck_A', 'Deck_B', 'Deck_C', 'Deck_D', 'Deck_E', 'Deck_F', 'Deck_G', \n",
    "    'Deck_Z', 'Pclass_1', 'Pclass_2', 'Pclass_3', 'Title_Lady', 'Title_Master', \n",
    "    'Title_Miss', 'Title_Mr', 'Title_Mrs', 'Title_Officer', 'Title_Sir', \n",
    "    'Fare_Bin_very_low', 'Fare_Bin_low', 'Fare_Bin_high', 'Fare_Bin_very_high', \n",
    "    'Embarked_C', 'Embarked_Q', 'Embarked_S', 'Age_State_Adult', \n",
    "    'Age_State_Child', 'Age_State_Senior', 'Age_State_Teenager'\n",
    "]\n",
    "\n",
    "\n",
    "# Define an API endpoint that accepts POST requests\n",
    "@app.route('/api', methods=['POST'])\n",
    "def make_prediction():\n",
    "    # Parse incoming JSON data\n",
    "    data = json.dumps(request.get_json(force=True))\n",
    "    # ceate df from json string\n",
    "    df = pd.read_json(data)\n",
    "    # extract passengerId's\n",
    "    passenger_ids = df['PassengerId'].ravel()\n",
    "    #actual survived values\n",
    "    actuals = df['Survived'].ravel()\n",
    "    # Extract required columns as numpy array\n",
    "    X = df[columns].to_numpy().astype('float')\n",
    "    # transform the input\n",
    "    X_scaled = scaler.transform(X)\n",
    "    # make predictions\n",
    "    predictions = model.predict(X_scaled)\n",
    "    # create response dataframe\n",
    "    df_response = pd.DataFrame({\n",
    "        'PassengerId': passenger_ids,\n",
    "        'Predicted': predictions,\n",
    "        'Actual': actuals\n",
    "    })\n",
    "    return df_response.to_json()\n",
    "\n",
    "# Run the app on port 10001 with debug mode enabled\n",
    "if __name__ == '__main__':\n",
    "    app.run(port=10001, debug=True)"
   ]
  },
  {
   "cell_type": "markdown",
   "id": "1c49673a-696e-4022-ba58-825b0f28c48b",
   "metadata": {},
   "source": [
    "#### Invoking API using Requests"
   ]
  },
  {
   "cell_type": "code",
   "execution_count": 15,
   "id": "b28167a2-2e32-4b79-82ac-f1424c2a3d19",
   "metadata": {},
   "outputs": [],
   "source": [
    "import pandas as pd\n",
    "import os\n",
    "\n",
    "processed_data_fp = os.path.join(os.path.pardir, 'data', 'processed')\n",
    "train_fp = os.path.join(processed_data_fp, 'train.csv')\n",
    "train_df = pd.read_csv(train_fp)"
   ]
  },
  {
   "cell_type": "code",
   "execution_count": 16,
   "id": "60424d7d-dc9d-4234-bd5c-c11533557ca1",
   "metadata": {},
   "outputs": [],
   "source": [
    "survived_passengers = train_df[train_df['Survived'] == 1][:5]"
   ]
  },
  {
   "cell_type": "code",
   "execution_count": 17,
   "id": "59e1a5be-9773-4489-8f69-2135b91c2bbf",
   "metadata": {},
   "outputs": [
    {
     "data": {
      "text/html": [
       "<div>\n",
       "<style scoped>\n",
       "    .dataframe tbody tr th:only-of-type {\n",
       "        vertical-align: middle;\n",
       "    }\n",
       "\n",
       "    .dataframe tbody tr th {\n",
       "        vertical-align: top;\n",
       "    }\n",
       "\n",
       "    .dataframe thead th {\n",
       "        text-align: right;\n",
       "    }\n",
       "</style>\n",
       "<table border=\"1\" class=\"dataframe\">\n",
       "  <thead>\n",
       "    <tr style=\"text-align: right;\">\n",
       "      <th></th>\n",
       "      <th>PassengerId</th>\n",
       "      <th>Survived</th>\n",
       "      <th>Age</th>\n",
       "      <th>Fare</th>\n",
       "      <th>Family_Size</th>\n",
       "      <th>Is_Mother</th>\n",
       "      <th>Is_Male</th>\n",
       "      <th>Is_Female</th>\n",
       "      <th>Deck_A</th>\n",
       "      <th>Deck_B</th>\n",
       "      <th>...</th>\n",
       "      <th>Fare_Bin_low</th>\n",
       "      <th>Fare_Bin_high</th>\n",
       "      <th>Fare_Bin_very_high</th>\n",
       "      <th>Embarked_C</th>\n",
       "      <th>Embarked_Q</th>\n",
       "      <th>Embarked_S</th>\n",
       "      <th>Age_State_Adult</th>\n",
       "      <th>Age_State_Child</th>\n",
       "      <th>Age_State_Senior</th>\n",
       "      <th>Age_State_Teenager</th>\n",
       "    </tr>\n",
       "  </thead>\n",
       "  <tbody>\n",
       "    <tr>\n",
       "      <th>1</th>\n",
       "      <td>2</td>\n",
       "      <td>1.0</td>\n",
       "      <td>38.0</td>\n",
       "      <td>71.2833</td>\n",
       "      <td>2</td>\n",
       "      <td>0</td>\n",
       "      <td>0</td>\n",
       "      <td>1</td>\n",
       "      <td>0</td>\n",
       "      <td>0</td>\n",
       "      <td>...</td>\n",
       "      <td>0</td>\n",
       "      <td>0</td>\n",
       "      <td>1</td>\n",
       "      <td>1</td>\n",
       "      <td>0</td>\n",
       "      <td>0</td>\n",
       "      <td>1</td>\n",
       "      <td>0</td>\n",
       "      <td>0</td>\n",
       "      <td>0</td>\n",
       "    </tr>\n",
       "    <tr>\n",
       "      <th>2</th>\n",
       "      <td>3</td>\n",
       "      <td>1.0</td>\n",
       "      <td>26.0</td>\n",
       "      <td>7.9250</td>\n",
       "      <td>1</td>\n",
       "      <td>0</td>\n",
       "      <td>0</td>\n",
       "      <td>1</td>\n",
       "      <td>0</td>\n",
       "      <td>0</td>\n",
       "      <td>...</td>\n",
       "      <td>1</td>\n",
       "      <td>0</td>\n",
       "      <td>0</td>\n",
       "      <td>0</td>\n",
       "      <td>0</td>\n",
       "      <td>1</td>\n",
       "      <td>1</td>\n",
       "      <td>0</td>\n",
       "      <td>0</td>\n",
       "      <td>0</td>\n",
       "    </tr>\n",
       "    <tr>\n",
       "      <th>3</th>\n",
       "      <td>4</td>\n",
       "      <td>1.0</td>\n",
       "      <td>35.0</td>\n",
       "      <td>53.1000</td>\n",
       "      <td>2</td>\n",
       "      <td>0</td>\n",
       "      <td>0</td>\n",
       "      <td>1</td>\n",
       "      <td>0</td>\n",
       "      <td>0</td>\n",
       "      <td>...</td>\n",
       "      <td>0</td>\n",
       "      <td>0</td>\n",
       "      <td>1</td>\n",
       "      <td>0</td>\n",
       "      <td>0</td>\n",
       "      <td>1</td>\n",
       "      <td>1</td>\n",
       "      <td>0</td>\n",
       "      <td>0</td>\n",
       "      <td>0</td>\n",
       "    </tr>\n",
       "    <tr>\n",
       "      <th>8</th>\n",
       "      <td>9</td>\n",
       "      <td>1.0</td>\n",
       "      <td>27.0</td>\n",
       "      <td>11.1333</td>\n",
       "      <td>3</td>\n",
       "      <td>1</td>\n",
       "      <td>0</td>\n",
       "      <td>1</td>\n",
       "      <td>0</td>\n",
       "      <td>0</td>\n",
       "      <td>...</td>\n",
       "      <td>1</td>\n",
       "      <td>0</td>\n",
       "      <td>0</td>\n",
       "      <td>0</td>\n",
       "      <td>0</td>\n",
       "      <td>1</td>\n",
       "      <td>1</td>\n",
       "      <td>0</td>\n",
       "      <td>0</td>\n",
       "      <td>0</td>\n",
       "    </tr>\n",
       "    <tr>\n",
       "      <th>9</th>\n",
       "      <td>10</td>\n",
       "      <td>1.0</td>\n",
       "      <td>14.0</td>\n",
       "      <td>30.0708</td>\n",
       "      <td>2</td>\n",
       "      <td>0</td>\n",
       "      <td>0</td>\n",
       "      <td>1</td>\n",
       "      <td>0</td>\n",
       "      <td>0</td>\n",
       "      <td>...</td>\n",
       "      <td>0</td>\n",
       "      <td>1</td>\n",
       "      <td>0</td>\n",
       "      <td>1</td>\n",
       "      <td>0</td>\n",
       "      <td>0</td>\n",
       "      <td>0</td>\n",
       "      <td>0</td>\n",
       "      <td>0</td>\n",
       "      <td>1</td>\n",
       "    </tr>\n",
       "  </tbody>\n",
       "</table>\n",
       "<p>5 rows × 37 columns</p>\n",
       "</div>"
      ],
      "text/plain": [
       "   PassengerId  Survived   Age     Fare  Family_Size  Is_Mother  Is_Male  \\\n",
       "1            2       1.0  38.0  71.2833            2          0        0   \n",
       "2            3       1.0  26.0   7.9250            1          0        0   \n",
       "3            4       1.0  35.0  53.1000            2          0        0   \n",
       "8            9       1.0  27.0  11.1333            3          1        0   \n",
       "9           10       1.0  14.0  30.0708            2          0        0   \n",
       "\n",
       "   Is_Female  Deck_A  Deck_B  ...  Fare_Bin_low  Fare_Bin_high  \\\n",
       "1          1       0       0  ...             0              0   \n",
       "2          1       0       0  ...             1              0   \n",
       "3          1       0       0  ...             0              0   \n",
       "8          1       0       0  ...             1              0   \n",
       "9          1       0       0  ...             0              1   \n",
       "\n",
       "   Fare_Bin_very_high  Embarked_C  Embarked_Q  Embarked_S  Age_State_Adult  \\\n",
       "1                   1           1           0           0                1   \n",
       "2                   0           0           0           1                1   \n",
       "3                   1           0           0           1                1   \n",
       "8                   0           0           0           1                1   \n",
       "9                   0           1           0           0                0   \n",
       "\n",
       "   Age_State_Child  Age_State_Senior  Age_State_Teenager  \n",
       "1                0                 0                   0  \n",
       "2                0                 0                   0  \n",
       "3                0                 0                   0  \n",
       "8                0                 0                   0  \n",
       "9                0                 0                   1  \n",
       "\n",
       "[5 rows x 37 columns]"
      ]
     },
     "execution_count": 17,
     "metadata": {},
     "output_type": "execute_result"
    }
   ],
   "source": [
    "survived_passengers"
   ]
  },
  {
   "cell_type": "code",
   "execution_count": 18,
   "id": "e278bd92-d47c-4b7f-a5f6-5843011e3fd3",
   "metadata": {},
   "outputs": [],
   "source": [
    "import requests\n",
    "def make_api_request(data):\n",
    "    # url for api\n",
    "    url = 'http://127.0.0.1:10001/api'\n",
    "    # make post request\n",
    "    r = requests.post(url, data)\n",
    "    return r.json()"
   ]
  },
  {
   "cell_type": "code",
   "execution_count": 19,
   "id": "fb2ee78b-9c93-4db7-a0e6-0242bad94a1b",
   "metadata": {},
   "outputs": [
    {
     "data": {
      "text/plain": [
       "{'PassengerId': {'0': 2, '1': 3, '2': 4, '3': 9, '4': 10},\n",
       " 'Predicted': {'0': 1.0, '1': 1.0, '2': 1.0, '3': 1.0, '4': 1.0},\n",
       " 'Actual': {'0': 1, '1': 1, '2': 1, '3': 1, '4': 1}}"
      ]
     },
     "execution_count": 19,
     "metadata": {},
     "output_type": "execute_result"
    }
   ],
   "source": [
    "make_api_request(survived_passengers.to_json())"
   ]
  },
  {
   "cell_type": "code",
   "execution_count": 24,
   "id": "ebac2538-932c-44ce-b95e-2f67393b8d3a",
   "metadata": {
    "scrolled": true
   },
   "outputs": [
    {
     "data": {
      "text/html": [
       "<div>\n",
       "<style scoped>\n",
       "    .dataframe tbody tr th:only-of-type {\n",
       "        vertical-align: middle;\n",
       "    }\n",
       "\n",
       "    .dataframe tbody tr th {\n",
       "        vertical-align: top;\n",
       "    }\n",
       "\n",
       "    .dataframe thead th {\n",
       "        text-align: right;\n",
       "    }\n",
       "</style>\n",
       "<table border=\"1\" class=\"dataframe\">\n",
       "  <thead>\n",
       "    <tr style=\"text-align: right;\">\n",
       "      <th></th>\n",
       "      <th>PassengerId</th>\n",
       "      <th>Predicted</th>\n",
       "      <th>Actual</th>\n",
       "    </tr>\n",
       "  </thead>\n",
       "  <tbody>\n",
       "    <tr>\n",
       "      <th>0</th>\n",
       "      <td>1</td>\n",
       "      <td>0</td>\n",
       "      <td>0</td>\n",
       "    </tr>\n",
       "    <tr>\n",
       "      <th>1</th>\n",
       "      <td>2</td>\n",
       "      <td>1</td>\n",
       "      <td>1</td>\n",
       "    </tr>\n",
       "    <tr>\n",
       "      <th>2</th>\n",
       "      <td>3</td>\n",
       "      <td>1</td>\n",
       "      <td>1</td>\n",
       "    </tr>\n",
       "    <tr>\n",
       "      <th>3</th>\n",
       "      <td>4</td>\n",
       "      <td>1</td>\n",
       "      <td>1</td>\n",
       "    </tr>\n",
       "    <tr>\n",
       "      <th>4</th>\n",
       "      <td>5</td>\n",
       "      <td>0</td>\n",
       "      <td>0</td>\n",
       "    </tr>\n",
       "  </tbody>\n",
       "</table>\n",
       "</div>"
      ],
      "text/plain": [
       "   PassengerId  Predicted  Actual\n",
       "0            1          0       0\n",
       "1            2          1       1\n",
       "2            3          1       1\n",
       "3            4          1       1\n",
       "4            5          0       0"
      ]
     },
     "execution_count": 24,
     "metadata": {},
     "output_type": "execute_result"
    }
   ],
   "source": [
    "# compare results\n",
    "from io import StringIO\n",
    "result = make_api_request(train_df.to_json())\n",
    "df_result = pd.read_json(StringIO(json.dumps(result)))\n",
    "df_result.head()"
   ]
  },
  {
   "cell_type": "code",
   "execution_count": 28,
   "id": "cc91ec66-cb37-4c8c-acf8-faf442dc74a0",
   "metadata": {},
   "outputs": [
    {
     "data": {
      "text/plain": [
       "0.8428731762065096"
      ]
     },
     "execution_count": 28,
     "metadata": {},
     "output_type": "execute_result"
    }
   ],
   "source": [
    "# accuracy level\n",
    "import numpy as np\n",
    "np.mean(df_result['Actual'] == df_result['Predicted'])"
   ]
  }
 ],
 "metadata": {
  "kernelspec": {
   "display_name": "Python 3 (ipykernel)",
   "language": "python",
   "name": "python3"
  },
  "language_info": {
   "codemirror_mode": {
    "name": "ipython",
    "version": 3
   },
   "file_extension": ".py",
   "mimetype": "text/x-python",
   "name": "python",
   "nbconvert_exporter": "python",
   "pygments_lexer": "ipython3",
   "version": "3.12.3"
  }
 },
 "nbformat": 4,
 "nbformat_minor": 5
}
